{
 "cells": [
  {
   "cell_type": "code",
   "execution_count": 1,
   "metadata": {},
   "outputs": [],
   "source": [
    "import numpy as np\n",
    "import tensorflow as tf\n",
    "from tensorflow import keras\n",
    "from tensorflow.keras import layers\n",
    "import tensorflow_hub as hub\n",
    "import dataset as d\n",
    "import random\n",
    "from tqdm import tqdm"
   ]
  },
  {
   "cell_type": "code",
   "execution_count": 2,
   "metadata": {},
   "outputs": [],
   "source": [
    "BATCH_SIZE = 4"
   ]
  },
  {
   "cell_type": "code",
   "execution_count": 3,
   "metadata": {},
   "outputs": [],
   "source": [
    "# grab the universal sentence encoder from tf hub\n",
    "url = \"https://tfhub.dev/google/universal-sentence-encoder-large/5\"\n",
    "embed = hub.load(url)"
   ]
  },
  {
   "cell_type": "code",
   "execution_count": 4,
   "metadata": {},
   "outputs": [
    {
     "name": "stderr",
     "output_type": "stream",
     "text": [
      "9999it [00:00, 22217.09it/s]\n",
      "100%|██████████| 9000/9000 [00:00<00:00, 23381.43it/s]\n"
     ]
    }
   ],
   "source": [
    "# Loads n article summaries from wikipedia and makes sequences to predict on\n",
    "data = d.load_data(10000)\n",
    "train, test = d.split_data(data)\n",
    "train = d.process_data(train, 10, 100)\n",
    "x, y = d.shuffle_and_split(train)\n"
   ]
  },
  {
   "cell_type": "code",
   "execution_count": 7,
   "metadata": {},
   "outputs": [],
   "source": [
    "# essentially creates a corpus to use to use\n",
    "# you should save the tokenizer.word_index to ensure that its consistent with\n",
    "# whatwas trained on\n",
    "tokenizer = d.create_tokenizer(data)\n",
    "vocab_size = len(tokenizer.word_index) + 1"
   ]
  },
  {
   "cell_type": "code",
   "execution_count": 8,
   "metadata": {},
   "outputs": [],
   "source": [
    "# The unviersal sentence encoder was causing issues with input size \n",
    "# so it was moved to the generator intstead of a keras layer\n",
    "# @TODO : move the encoder to the model\n",
    "def generator(x,y, batch_size):\n",
    "    total = int(len(x) / batch_size)\n",
    "    \n",
    "    i = 0 \n",
    "    one_hot = np.eye(vocab_size, dtype='int8')\n",
    "    \n",
    "    while True:\n",
    "        idx = i % total\n",
    "        batch_x = x[idx * batch_size: (idx+1) * batch_size]\n",
    "        batch_y = y[idx * batch_size: (idx+1) * batch_size]\n",
    "        \n",
    "        e_x = [embed([a]) for a in batch_x]\n",
    "        \n",
    "        e_y = []\n",
    "        for a in batch_y:\n",
    "            if a in tokenizer.word_index:\n",
    "                e_y.append(one_hot[tokenizer.word_index[a]])\n",
    "            else:\n",
    "                e_y.append(one_hot[0])\n",
    "\n",
    "        i += 1\n",
    "        \n",
    "        yield (tf.reshape(tf.convert_to_tensor(e_x), (batch_size, -1)), \\\n",
    "               tf.convert_to_tensor(e_y))"
   ]
  },
  {
   "cell_type": "code",
   "execution_count": 9,
   "metadata": {},
   "outputs": [],
   "source": [
    "model = keras.Sequential()\n",
    "model.add(keras.Input((512)))\n",
    "model.add(layers.Dense(512, activation=\"relu\"))\n",
    "model.add(layers.Dense(512*2, activation=\"relu\"))\n",
    "model.add(layers.Dense(512*2, activation=\"relu\"))\n",
    "model.add(layers.Dense(512*2, activation=\"relu\"))\n",
    "model.add(layers.Dense(512*8, activation=\"relu\"))\n",
    "model.add(layers.Dense(vocab_size, activation=\"softmax\"))\n",
    "\n"
   ]
  },
  {
   "cell_type": "code",
   "execution_count": 10,
   "metadata": {},
   "outputs": [],
   "source": [
    "model.build(input_shape=(None, 512))"
   ]
  },
  {
   "cell_type": "code",
   "execution_count": 11,
   "metadata": {},
   "outputs": [
    {
     "name": "stdout",
     "output_type": "stream",
     "text": [
      "Model: \"sequential\"\n",
      "_________________________________________________________________\n",
      "Layer (type)                 Output Shape              Param #   \n",
      "=================================================================\n",
      "dense (Dense)                (None, 512)               262656    \n",
      "_________________________________________________________________\n",
      "dense_1 (Dense)              (None, 1024)              525312    \n",
      "_________________________________________________________________\n",
      "dense_2 (Dense)              (None, 1024)              1049600   \n",
      "_________________________________________________________________\n",
      "dense_3 (Dense)              (None, 1024)              1049600   \n",
      "_________________________________________________________________\n",
      "dense_4 (Dense)              (None, 4096)              4198400   \n",
      "_________________________________________________________________\n",
      "dense_5 (Dense)              (None, 77748)             318533556 \n",
      "=================================================================\n",
      "Total params: 325,619,124\n",
      "Trainable params: 325,619,124\n",
      "Non-trainable params: 0\n",
      "_________________________________________________________________\n"
     ]
    }
   ],
   "source": [
    "model.summary()"
   ]
  },
  {
   "cell_type": "code",
   "execution_count": 12,
   "metadata": {},
   "outputs": [],
   "source": [
    "# @TODO : add tensorboard callback\n",
    "model.compile(loss='categorical_crossentropy', optimizer='adam', metrics=['accuracy', tf.keras.metrics.CategoricalAccuracy(), ])"
   ]
  },
  {
   "cell_type": "code",
   "execution_count": 13,
   "metadata": {},
   "outputs": [],
   "source": [
    "gen = generator(x,y, BATCH_SIZE)"
   ]
  },
  {
   "cell_type": "code",
   "execution_count": null,
   "metadata": {},
   "outputs": [],
   "source": []
  },
  {
   "cell_type": "code",
   "execution_count": 14,
   "metadata": {},
   "outputs": [
    {
     "name": "stdout",
     "output_type": "stream",
     "text": [
      "WARNING:tensorflow:From <ipython-input-14-84a34b39cd4f>:1: Model.fit_generator (from tensorflow.python.keras.engine.training) is deprecated and will be removed in a future version.\n",
      "Instructions for updating:\n",
      "Please use Model.fit, which supports generators.\n"
     ]
    },
    {
     "name": "stderr",
     "output_type": "stream",
     "text": [
      "WARNING:tensorflow:From <ipython-input-14-84a34b39cd4f>:1: Model.fit_generator (from tensorflow.python.keras.engine.training) is deprecated and will be removed in a future version.\n",
      "Instructions for updating:\n",
      "Please use Model.fit, which supports generators.\n"
     ]
    },
    {
     "name": "stdout",
     "output_type": "stream",
     "text": [
      "Epoch 1/2\n",
      "36189/36189 [==============================] - 5539s 153ms/step - loss: 7.6782 - accuracy: 0.0620 - categorical_accuracy: 0.0620\n",
      "Epoch 2/2\n",
      "36189/36189 [==============================] - 5506s 152ms/step - loss: 7.2858 - accuracy: 0.0666 - categorical_accuracy: 0.0666\n"
     ]
    },
    {
     "data": {
      "text/plain": [
       "<tensorflow.python.keras.callbacks.History at 0x7ef80be70610>"
      ]
     },
     "execution_count": 14,
     "metadata": {},
     "output_type": "execute_result"
    }
   ],
   "source": [
    "model.fit_generator(generator=gen, epochs=2, steps_per_epoch=len(x))"
   ]
  },
  {
   "cell_type": "code",
   "execution_count": null,
   "metadata": {},
   "outputs": [],
   "source": []
  },
  {
   "cell_type": "code",
   "execution_count": 20,
   "metadata": {},
   "outputs": [],
   "source": [
    "# Save the corpous word index and the model / weights \n",
    "import pickle\n",
    "model.save(\"model_data/model.h5\")\n",
    "\n"
   ]
  },
  {
   "cell_type": "code",
   "execution_count": 23,
   "metadata": {},
   "outputs": [],
   "source": [
    "with open('model_data/corpus.pickle', 'wb') as corpus:\n",
    "    pickle.dump([tokenizer.word_index, tokenizer.index_word], corpus)"
   ]
  },
  {
   "cell_type": "code",
   "execution_count": 22,
   "metadata": {},
   "outputs": [
    {
     "data": {
      "text/plain": [
       "'a'"
      ]
     },
     "execution_count": 22,
     "metadata": {},
     "output_type": "execute_result"
    }
   ],
   "source": []
  },
  {
   "cell_type": "code",
   "execution_count": null,
   "metadata": {},
   "outputs": [],
   "source": []
  },
  {
   "cell_type": "code",
   "execution_count": null,
   "metadata": {},
   "outputs": [],
   "source": []
  }
 ],
 "metadata": {
  "kernelspec": {
   "display_name": "tf",
   "language": "python",
   "name": "tf"
  },
  "language_info": {
   "codemirror_mode": {
    "name": "ipython",
    "version": 3
   },
   "file_extension": ".py",
   "mimetype": "text/x-python",
   "name": "python",
   "nbconvert_exporter": "python",
   "pygments_lexer": "ipython3",
   "version": "3.8.3"
  }
 },
 "nbformat": 4,
 "nbformat_minor": 4
}
